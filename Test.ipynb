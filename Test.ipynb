{
 "cells": [
  {
   "cell_type": "code",
   "execution_count": 1,
   "metadata": {},
   "outputs": [],
   "source": [
    "from dihedral import *\n",
    "from entropy import *"
   ]
  },
  {
   "cell_type": "code",
   "execution_count": 2,
   "metadata": {},
   "outputs": [],
   "source": [
    "import numpy as np\n",
    "import MDAnalysis as mda\n",
    "import seaborn as sns\n",
    "import matplotlib.pyplot as plt\n",
    "from MDAnalysis.lib.nsgrid import FastNS"
   ]
  },
  {
   "cell_type": "code",
   "execution_count": 3,
   "metadata": {},
   "outputs": [],
   "source": [
    "u = mda.Universe(\"/home/dibya/Dibyendu/PointNet/Sample_Structures/Ice/liquid.gro\")"
   ]
  },
  {
   "cell_type": "code",
   "execution_count": 8,
   "metadata": {},
   "outputs": [],
   "source": [
    "obj1 = OrderParameter(u, cutoff=4.0)"
   ]
  },
  {
   "cell_type": "code",
   "execution_count": 9,
   "metadata": {},
   "outputs": [],
   "source": [
    "#obj1.OTO()"
   ]
  },
  {
   "cell_type": "code",
   "execution_count": 10,
   "metadata": {},
   "outputs": [
    {
     "data": {
      "application/vnd.jupyter.widget-view+json": {
       "model_id": "317b40b487164ff082fddf4c14190005",
       "version_major": 2,
       "version_minor": 0
      },
      "text/plain": [
       "  0%|          | 0/11222 [00:00<?, ?it/s]"
      ]
     },
     "metadata": {},
     "output_type": "display_data"
    },
    {
     "name": "stderr",
     "output_type": "stream",
     "text": [
      "/home/dibya/Soft/anaconda3/lib/python3.9/site-packages/joblib/externals/cloudpickle/cloudpickle_fast.py:602: UserWarning: Reader has no dt information, set to 1.0 ps\n",
      "  return Pickler.dump(self, obj)\n"
     ]
    }
   ],
   "source": [
    "obj1.F4()"
   ]
  },
  {
   "cell_type": "code",
   "execution_count": 11,
   "metadata": {},
   "outputs": [
    {
     "data": {
      "text/plain": [
       "(array([  6.,  13.,   8.,  10.,  24.,  30.,  41.,  48.,  74.,  78., 136.,\n",
       "        140., 212., 228., 293., 303., 393., 389., 434., 493., 503., 590.,\n",
       "        563., 546., 609., 566., 558., 570., 503., 397., 392., 358., 330.,\n",
       "        308., 230., 193., 152., 117.,  92.,  85.,  52.,  55.,  42.,  16.,\n",
       "         12.,  10.,   4.,   8.,   1.,   3.]),\n",
       " array([-0.83408403, -0.80005949, -0.76603495, -0.73201041, -0.69798587,\n",
       "        -0.66396132, -0.62993678, -0.59591224, -0.5618877 , -0.52786316,\n",
       "        -0.49383861, -0.45981407, -0.42578953, -0.39176499, -0.35774045,\n",
       "        -0.3237159 , -0.28969136, -0.25566682, -0.22164228, -0.18761774,\n",
       "        -0.15359319, -0.11956865, -0.08554411, -0.05151957, -0.01749502,\n",
       "         0.01652952,  0.05055406,  0.0845786 ,  0.11860314,  0.15262769,\n",
       "         0.18665223,  0.22067677,  0.25470131,  0.28872585,  0.3227504 ,\n",
       "         0.35677494,  0.39079948,  0.42482402,  0.45884856,  0.49287311,\n",
       "         0.52689765,  0.56092219,  0.59494673,  0.62897127,  0.66299582,\n",
       "         0.69702036,  0.7310449 ,  0.76506944,  0.79909398,  0.83311853,\n",
       "         0.86714307]),\n",
       " <BarContainer object of 50 artists>)"
      ]
     },
     "execution_count": 11,
     "metadata": {},
     "output_type": "execute_result"
    },
    {
     "data": {
      "image/png": "[encoded data removed]",
      "text/plain": [
       "<Figure size 640x480 with 1 Axes>"
      ]
     },
     "metadata": {},
     "output_type": "display_data"
    }
   ],
   "source": [
    "plt.hist(obj1.f4, bins= 50)"
   ]
  },
  {
   "cell_type": "code",
   "execution_count": 28,
   "metadata": {},
   "outputs": [
    {
     "data": {
      "text/plain": [
       "(array([  851,  1457,  1814,  2161,  2689,  3228,  5700,  6445,  6593,\n",
       "         7435,  7565,  8191,  8282,  8404,  8832,  8976, 10596, 10604,\n",
       "        10727, 10748]),)"
      ]
     },
     "execution_count": 28,
     "metadata": {},
     "output_type": "execute_result"
    }
   ],
   "source": [
    "np.where(obj1.tetra_orient < 0)"
   ]
  },
  {
   "cell_type": "code",
   "execution_count": 8,
   "metadata": {},
   "outputs": [],
   "source": []
  },
  {
   "cell_type": "code",
   "execution_count": 9,
   "metadata": {},
   "outputs": [
    {
     "data": {
      "text/plain": [
       "(array([  84, 1389, 7264, 3959]),\n",
       " array([2.65898456, 2.67105002, 2.84086232, 2.9208558 ]))"
      ]
     },
     "execution_count": 9,
     "metadata": {},
     "output_type": "execute_result"
    }
   ],
   "source": [
    "dist"
   ]
  },
  {
   "cell_type": "code",
   "execution_count": 11,
   "metadata": {},
   "outputs": [
    {
     "data": {
      "text/plain": [
       "-0.6578338515241839"
      ]
     },
     "execution_count": 11,
     "metadata": {},
     "output_type": "execute_result"
    }
   ],
   "source": [
    "test_singleTTO(dist)"
   ]
  },
  {
   "cell_type": "code",
   "execution_count": 74,
   "metadata": {},
   "outputs": [],
   "source": [
    "from MDAnalysis.lib.distances import calc_angles"
   ]
  },
  {
   "cell_type": "code",
   "execution_count": 64,
   "metadata": {},
   "outputs": [],
   "source": [
    "import math"
   ]
  },
  {
   "cell_type": "code",
   "execution_count": 162,
   "metadata": {},
   "outputs": [],
   "source": [
    "\n",
    "def calc_angle(a, b, c):\n",
    "    \"\"\"Calculate the angle between ba and cb\"\"\"\n",
    "    ba = a - b\n",
    "    bc = c - b\n",
    "    cos_theta = np.dot(ba, bc) / (np.linalg.norm(ba) * np.linalg.norm(bc))\n",
    "    theta = math.acos(cos_theta)\n",
    "    return theta"
   ]
  },
  {
   "cell_type": "code",
   "execution_count": 161,
   "metadata": {},
   "outputs": [
    {
     "name": "stdout",
     "output_type": "stream",
     "text": [
      "\u001b[0;31mSignature:\u001b[0m \u001b[0mmath\u001b[0m\u001b[0;34m.\u001b[0m\u001b[0macos\u001b[0m\u001b[0;34m(\u001b[0m\u001b[0mx\u001b[0m\u001b[0;34m,\u001b[0m \u001b[0;34m/\u001b[0m\u001b[0;34m)\u001b[0m\u001b[0;34m\u001b[0m\u001b[0;34m\u001b[0m\u001b[0m\n",
      "\u001b[0;31mDocstring:\u001b[0m\n",
      "Return the arc cosine (measured in radians) of x.\n",
      "\n",
      "The result is between 0 and pi.\n",
      "\u001b[0;31mType:\u001b[0m      builtin_function_or_method\n"
     ]
    }
   ],
   "source": [
    "math.acos?"
   ]
  },
  {
   "cell_type": "code",
   "execution_count": 192,
   "metadata": {},
   "outputs": [],
   "source": [
    "############# orientational tetrahedral order parameter........\n",
    "def singleOTO(item,li, dimensions, pos):\n",
    "    #u = self.u\n",
    "    #gridsearch = _FastNS(5.0, u.select_atoms(\"name OW\").positions, u.dimensions, pbc=True)\n",
    "    #pos = self.pos\n",
    "    #results = gridsearch.self_search()\n",
    "    #arr = self.arr\n",
    "    #li = self._filter_(item,arr, pos)[0]\n",
    "    q = 0.0\n",
    "    #try:\n",
    "    for i in range(3):\n",
    "        for j in range(i+1, 4):\n",
    "            cos_phi = math.cos(calc_angle(pos[li[i]],pos[item], pos[li[j]]))\n",
    "            q += (cos_phi + (1 / 3)) ** 2\n",
    "            print(q,(cos_phi + 1 / 3) ** 2, 3 *q/ 8)\n",
    "    q = 1 - (3 *q/ 8 )\n",
    "\n",
    "    #except Exception:\n",
    "    #    print(f\"Check for atom : {item}!\")\n",
    "    #    print(\"Specify cutoff!!\")\n",
    "    return q"
   ]
  },
  {
   "cell_type": "code",
   "execution_count": 227,
   "metadata": {},
   "outputs": [],
   "source": [
    "def calc_oto(coords, ref):\n",
    "    \"\"\"Calculate the orientational tetrahedral order parameter (OTO) for a water molecule\"\"\"\n",
    "    q = 0.0\n",
    "    for i in range(3):\n",
    "        for j in range(i+1, 4):\n",
    "            cos_psi = np.cos(calc_angle(coords[i], ref, coords[j]))\n",
    "            theta = calc_angle(coords[i], ref, coords[j])\n",
    "            #print(np.rad2deg(theta), )\n",
    "            print(q)\n",
    "            q += (np.cos(theta) + 0.333)**2\n",
    "\n",
    "    q = 1 - 3/8 * q\n",
    "    return q"
   ]
  },
  {
   "cell_type": "code",
   "execution_count": 233,
   "metadata": {},
   "outputs": [],
   "source": [
    "atoms = u.select_atoms(\"name OW\")\n",
    "atoms.write(\"test.xyz\")"
   ]
  },
  {
   "cell_type": "code",
   "execution_count": 237,
   "metadata": {},
   "outputs": [],
   "source": [
    "data = (np.loadtxt(\"test_oto_raw.dat\"))"
   ]
  },
  {
   "cell_type": "code",
   "execution_count": 255,
   "metadata": {},
   "outputs": [
    {
     "data": {
      "text/plain": [
       "(array([ 4305,  9266, 11107]),)"
      ]
     },
     "execution_count": 255,
     "metadata": {},
     "output_type": "execute_result"
    }
   ],
   "source": [
    "np.where((data > 0.0) & (data < 0.01))"
   ]
  },
  {
   "cell_type": "code",
   "execution_count": 248,
   "metadata": {},
   "outputs": [
    {
     "data": {
      "text/plain": [
       "5255"
      ]
     },
     "execution_count": 248,
     "metadata": {},
     "output_type": "execute_result"
    }
   ],
   "source": [
    "np.argmax(data)"
   ]
  },
  {
   "cell_type": "code",
   "execution_count": 228,
   "metadata": {},
   "outputs": [
    {
     "name": "stdout",
     "output_type": "stream",
     "text": [
      "0.0\n",
      "1.2180619376973798\n",
      "1.4588751925130172\n",
      "1.544143195607945\n",
      "2.4217876878725604\n",
      "2.7452632653707925\n"
     ]
    },
    {
     "data": {
      "text/plain": [
       "-0.13468624848126876"
      ]
     },
     "execution_count": 228,
     "metadata": {},
     "output_type": "execute_result"
    }
   ],
   "source": [
    "calc_oto(pos[li], pos[851])"
   ]
  },
  {
   "cell_type": "code",
   "execution_count": 262,
   "metadata": {},
   "outputs": [
    {
     "name": "stdout",
     "output_type": "stream",
     "text": [
      "0.07322068318084658 0.07322068318084658 0.02745775619281747\n",
      "0.7874868367839443 0.7142661536030976 0.2953075637939791\n",
      "1.8535199242189622 1.066033087435018 0.6950699715821108\n",
      "2.277416698436734 0.4238967742177716 0.8540312619137752\n",
      "2.4414508324511823 0.16403413401444836 0.9155440621691934\n",
      "3.6773237872756086 1.2358729548244265 1.3789964202283533\n"
     ]
    },
    {
     "data": {
      "text/plain": [
       "-0.37899642022835334"
      ]
     },
     "execution_count": 262,
     "metadata": {},
     "output_type": "execute_result"
    }
   ],
   "source": [
    "item = 7565\n",
    "arr = obj1.arr\n",
    "pos = obj1.pos\n",
    "dist = obj1._filter_(item, arr, pos)\n",
    "li = obj1._filter_(item,arr, pos)[0]\n",
    "#li = [3906, 7102, 4046, 3939]\n",
    "dimensions = obj1.dimensions\n",
    "singleOTO(item,li, dimensions, pos)"
   ]
  },
  {
   "cell_type": "code",
   "execution_count": 257,
   "metadata": {},
   "outputs": [
    {
     "data": {
      "text/plain": [
       "array([7212, 3478, 3599, 5844])"
      ]
     },
     "execution_count": 257,
     "metadata": {},
     "output_type": "execute_result"
    }
   ],
   "source": [
    "li"
   ]
  },
  {
   "cell_type": "code",
   "execution_count": 97,
   "metadata": {},
   "outputs": [],
   "source": [
    "nnset = set(arr[np.where((arr[:,0] == 851) | (arr[:,1]==851))[0]].ravel())"
   ]
  },
  {
   "cell_type": "code",
   "execution_count": 133,
   "metadata": {},
   "outputs": [],
   "source": [
    "myset = np.unique(u.select_atoms(\"same resid as (around 3.6 resid 852)\").resids)"
   ]
  },
  {
   "cell_type": "code",
   "execution_count": 134,
   "metadata": {},
   "outputs": [
    {
     "data": {
      "text/plain": [
       "array([3907, 7103, 4047, 3940, 3183, 6872, 3306, 3210, 3025, 7165, 1618])"
      ]
     },
     "execution_count": 134,
     "metadata": {},
     "output_type": "execute_result"
    }
   ],
   "source": [
    "index = np.argsort([calc_bonds(pos[851], pos[i], u.dimensions) for i in myset])\n",
    "myset[index]"
   ]
  },
  {
   "cell_type": "code",
   "execution_count": null,
   "metadata": {},
   "outputs": [],
   "source": [
    "np.linalg.norm()"
   ]
  },
  {
   "cell_type": "code",
   "execution_count": 108,
   "metadata": {},
   "outputs": [
    {
     "ename": "TypeError",
     "evalue": "iteration over a 0-d array",
     "output_type": "error",
     "traceback": [
      "\u001b[0;31m---------------------------------------------------------------------------\u001b[0m",
      "\u001b[0;31mTypeError\u001b[0m                                 Traceback (most recent call last)",
      "\u001b[0;32m/tmp/ipykernel_7945/1950173939.py\u001b[0m in \u001b[0;36m<module>\u001b[0;34m\u001b[0m\n\u001b[0;32m----> 1\u001b[0;31m \u001b[0mprint\u001b[0m\u001b[0;34m(\u001b[0m\u001b[0mnp\u001b[0m\u001b[0;34m.\u001b[0m\u001b[0marray\u001b[0m\u001b[0;34m(\u001b[0m\u001b[0mlist\u001b[0m\u001b[0;34m(\u001b[0m\u001b[0mmap\u001b[0m\u001b[0;34m(\u001b[0m\u001b[0;32mlambda\u001b[0m \u001b[0mx\u001b[0m\u001b[0;34m,\u001b[0m \u001b[0my\u001b[0m\u001b[0;34m:\u001b[0m \u001b[0my\u001b[0m\u001b[0;34m[\u001b[0m\u001b[0mx\u001b[0m\u001b[0;34m]\u001b[0m\u001b[0;34m,\u001b[0m \u001b[0;34m[\u001b[0m\u001b[0mnp\u001b[0m\u001b[0;34m.\u001b[0m\u001b[0margsort\u001b[0m\u001b[0;34m(\u001b[0m\u001b[0;34m[\u001b[0m\u001b[0mcalc_bonds\u001b[0m\u001b[0;34m(\u001b[0m\u001b[0mpos\u001b[0m\u001b[0;34m[\u001b[0m\u001b[0;36m851\u001b[0m\u001b[0;34m]\u001b[0m\u001b[0;34m,\u001b[0m \u001b[0mpos\u001b[0m\u001b[0;34m[\u001b[0m\u001b[0mi\u001b[0m\u001b[0;34m]\u001b[0m\u001b[0;34m,\u001b[0m \u001b[0mu\u001b[0m\u001b[0;34m.\u001b[0m\u001b[0mdimensions\u001b[0m\u001b[0;34m)\u001b[0m \u001b[0;32mfor\u001b[0m \u001b[0mi\u001b[0m \u001b[0;32min\u001b[0m \u001b[0mnnset\u001b[0m\u001b[0;34m]\u001b[0m\u001b[0;34m)\u001b[0m\u001b[0;34m]\u001b[0m\u001b[0;34m,\u001b[0m \u001b[0mnp\u001b[0m\u001b[0;34m.\u001b[0m\u001b[0marray\u001b[0m\u001b[0;34m(\u001b[0m\u001b[0mnnset\u001b[0m\u001b[0;34m)\u001b[0m\u001b[0;34m)\u001b[0m\u001b[0;34m)\u001b[0m\u001b[0;34m)\u001b[0m\u001b[0;34m)\u001b[0m\u001b[0;34m\u001b[0m\u001b[0;34m\u001b[0m\u001b[0m\n\u001b[0m",
      "\u001b[0;31mTypeError\u001b[0m: iteration over a 0-d array"
     ]
    }
   ],
   "source": [
    "print(np.array(list(map(lambda x, y: y[x], , np.array(nnset)))))"
   ]
  },
  {
   "cell_type": "code",
   "execution_count": 83,
   "metadata": {},
   "outputs": [
    {
     "data": {
      "text/plain": [
       "2.839258819091583"
      ]
     },
     "execution_count": 83,
     "metadata": {},
     "output_type": "execute_result"
    }
   ],
   "source": [
    "calc_bonds(pos[851], pos[3939])"
   ]
  },
  {
   "cell_type": "code",
   "execution_count": 118,
   "metadata": {},
   "outputs": [
    {
     "data": {
      "text/plain": [
       "-0.9746032311860904"
      ]
     },
     "execution_count": 118,
     "metadata": {},
     "output_type": "execute_result"
    }
   ],
   "source": [
    "singleOTO(item,li, dimensions, pos)"
   ]
  },
  {
   "cell_type": "code",
   "execution_count": 31,
   "metadata": {},
   "outputs": [
    {
     "data": {
      "text/plain": [
       "8.229855975986862"
      ]
     },
     "execution_count": 31,
     "metadata": {},
     "output_type": "execute_result"
    }
   ],
   "source": [
    "3*2.743285325328954"
   ]
  },
  {
   "cell_type": "code",
   "execution_count": 24,
   "metadata": {},
   "outputs": [
    {
     "data": {
      "text/plain": [
       "(array([3906, 3939, 3209, 7164]),\n",
       " array([2.64911514, 2.8392588 , 2.96199147, 3.19258341]))"
      ]
     },
     "execution_count": 24,
     "metadata": {},
     "output_type": "execute_result"
    }
   ],
   "source": [
    " 3209],\n",
    "       [   0, 3305],\n",
    "       [   0, 3906],\n",
    "       [   0, 3939],\n",
    "       [   0, 4046"
   ]
  },
  {
   "cell_type": "code",
   "execution_count": 43,
   "metadata": {},
   "outputs": [
    {
     "data": {
      "text/plain": [
       "(array([27.99    , 29.14    , 21.849998], dtype=float32),\n",
       " array([31.61, 32.12, 23.43], dtype=float32),\n",
       " array([28.310001, 32.59    , 22.26    ], dtype=float32),\n",
       " array([30.33, 31.18, 20.79], dtype=float32))"
      ]
     },
     "execution_count": 43,
     "metadata": {},
     "output_type": "execute_result"
    }
   ],
   "source": [
    "pos[3906], pos[3939], pos[3209], pos[7164]"
   ]
  },
  {
   "cell_type": "code",
   "execution_count": 3,
   "metadata": {},
   "outputs": [],
   "source": [
    "natoms = u.select_atoms(\"name OW\").n_atoms\n",
    "pos = u.select_atoms(\"name OW\").positions\n",
    "q_array = np.zeros(natoms)\n",
    "gridsearch = FastNS(3.6 , pos, u.dimensions, pbc=True)\n",
    "results = gridsearch.self_search()\n",
    "arr = results.get_pairs()"
   ]
  },
  {
   "cell_type": "code",
   "execution_count": 88,
   "metadata": {},
   "outputs": [
    {
     "data": {
      "text/plain": [
       "(3,)"
      ]
     },
     "execution_count": 88,
     "metadata": {},
     "output_type": "execute_result"
    }
   ],
   "source": [
    "pos[851].shape"
   ]
  },
  {
   "cell_type": "code",
   "execution_count": 4,
   "metadata": {},
   "outputs": [
    {
     "ename": "ValueError",
     "evalue": "Buffer has wrong number of dimensions (expected 2, got 1)",
     "output_type": "error",
     "traceback": [
      "\u001b[0;31m---------------------------------------------------------------------------\u001b[0m",
      "\u001b[0;31mValueError\u001b[0m                                Traceback (most recent call last)",
      "\u001b[0;32m/tmp/ipykernel_7945/456328132.py\u001b[0m in \u001b[0;36m<module>\u001b[0;34m\u001b[0m\n\u001b[0;32m----> 1\u001b[0;31m \u001b[0mgridsearch\u001b[0m\u001b[0;34m.\u001b[0m\u001b[0msearch\u001b[0m\u001b[0;34m(\u001b[0m\u001b[0mpos\u001b[0m\u001b[0;34m[\u001b[0m\u001b[0;36m851\u001b[0m\u001b[0;34m]\u001b[0m\u001b[0;34m)\u001b[0m\u001b[0;34m\u001b[0m\u001b[0;34m\u001b[0m\u001b[0m\n\u001b[0m",
      "\u001b[0;32m~/Soft/anaconda3/lib/python3.9/site-packages/MDAnalysis/lib/nsgrid.pyx\u001b[0m in \u001b[0;36mMDAnalysis.lib.nsgrid.FastNS.search\u001b[0;34m()\u001b[0m\n",
      "\u001b[0;31mValueError\u001b[0m: Buffer has wrong number of dimensions (expected 2, got 1)"
     ]
    }
   ],
   "source": [
    "gridsearch.search(pos[851])"
   ]
  },
  {
   "cell_type": "code",
   "execution_count": 73,
   "metadata": {},
   "outputs": [
    {
     "data": {
      "text/plain": [
       "array([10431, 10432, 10433, 10434, 10435, 11977])"
      ]
     },
     "execution_count": 73,
     "metadata": {},
     "output_type": "execute_result"
    }
   ],
   "source": [
    "np.where((arr[:,1] == 1) | (arr[:,0] == 1 ))[0]"
   ]
  },
  {
   "cell_type": "code",
   "execution_count": 74,
   "metadata": {},
   "outputs": [
    {
     "data": {
      "text/plain": [
       "24.905508"
      ]
     },
     "execution_count": 74,
     "metadata": {},
     "output_type": "execute_result"
    }
   ],
   "source": [
    "np.linalg.norm(pos[0] - pos[1])"
   ]
  },
  {
   "cell_type": "code",
   "execution_count": 72,
   "metadata": {},
   "outputs": [
    {
     "data": {
      "text/plain": [
       "38.030141805809016"
      ]
     },
     "execution_count": 72,
     "metadata": {},
     "output_type": "execute_result"
    }
   ],
   "source": [
    "calc_bonds(pos[0], pos[10075], u.dimensions)"
   ]
  },
  {
   "cell_type": "code",
   "execution_count": 10,
   "metadata": {},
   "outputs": [],
   "source": [
    "from MDAnalysis.lib.distances import calc_bonds"
   ]
  },
  {
   "cell_type": "code",
   "execution_count": null,
   "metadata": {},
   "outputs": [],
   "source": [
    "def parse_universe(u, neighbor_number, embeddings, cutoff=None, pbc=None, warn=True):\n",
    "    '''Converts universe into atoms, edges, nlist\n",
    "    '''\n",
    "    N = u.atoms.positions.shape[0]\n",
    "    dimensions = u.dimensions\n",
    "    if cutoff is None:\n",
    "        if dimensions is None:\n",
    "            # no box defined\n",
    "            bbox = u.atoms.bbox()\n",
    "            dimensions = bbox[1] - bbox[0]\n",
    "            cutoff = min(dimensions) / 2.01\n",
    "            # make it into proper dimensions\n",
    "            dimensions = np.array(list(dimensions) + [90, 90, 90])\n",
    "            u.atoms.wrap(box=dimensions)\n",
    "            #if warn:\n",
    "            #    warnings.warn(f'Guessing the system dimensions are{str(dimensions)}')\n",
    "        else:\n",
    "            cutoff = min(dimensions) / 2.01\n",
    "    gridsearch = md.lib.nsgrid.FastNS(\n",
    "        cutoff, u.atoms.positions, dimensions, pbc=pbc)\n",
    "    results = gridsearch.self_search()\n",
    "    ragged_nlist, ragged_edges = _oldstyle_mda(\n",
    "        results.get_pairs(), results.get_pair_distances(), N)\n",
    "    nlist = np.zeros((N, neighbor_number), dtype=np.int32)\n",
    "    edges = np.zeros((N, neighbor_number), dtype=np.float32)\n",
    "    atoms = np.zeros(N, dtype=np.int32)\n",
    "    # check for elements\n",
    "    try:\n",
    "        elements = u.atoms.elements\n",
    "        for e in elements:\n",
    "            if e == '':\n",
    "                elements = None\n",
    "                break\n",
    "    except md.exceptions.NoDataError as e:\n",
    "        elements = None\n",
    "\n",
    "    if elements is None:\n",
    "        #if warn:\n",
    "        #    warnings.warn('Trying to guess elements from names')\n",
    "        elements = [\n",
    "            [n for n in u.atoms[i].name if not n.isdigit()][0]\n",
    "            for i in range(N)\n",
    "        ]\n",
    "    new_embeddings = False\n",
    "    for i in range(N):\n",
    "        # sort them\n",
    "        order = np.argsort(ragged_edges[i])\n",
    "        nl = np.array(ragged_nlist[i])[order][:neighbor_number]\n",
    "        el = np.array(ragged_edges[i])[order][:neighbor_number]\n",
    "        nlist[i, :len(nl)] = nl\n",
    "        edges[i, :len(nl)] = el\n",
    "        try:\n",
    "            atoms[i] = embeddings['atom'][elements[i]]\n",
    "        except KeyError as e:\n",
    "            if warn:\n",
    "                print(\n",
    "                    f'Unparameterized element   <  {elements[i]}> will replace with unknown atom'\n",
    "                )\n",
    "            atoms[i] = 1\n",
    "            embeddings['name'][elements[i]] = len(embeddings['name'])\n",
    "            new_embeddings = True\n",
    "    edges /= 10  # angstrom to nm. TODO: need more reliable check\n",
    "    # note we convert atoms to be one hot\n",
    "    if new_embeddings:\n",
    "        nef = 'new-embeddings.pb'\n",
    "        if not os.path.exists(nef):\n",
    "            print('Writing modified emebddings as new_embeddings')\n",
    "            save_embeddings(embeddings, 'new-embeddings.pb')\n",
    "        elif warn:\n",
    "            print('Will not write modified embeddings because file exists')\n",
    "    return tf.one_hot(atoms, len(embeddings['atom'])), edges, nlist"
   ]
  },
  {
   "cell_type": "code",
   "execution_count": 5,
   "metadata": {},
   "outputs": [],
   "source": [
    "from MDAnalysis.lib.pkdtree import PeriodicKDTree"
   ]
  },
  {
   "cell_type": "code",
   "execution_count": 47,
   "metadata": {},
   "outputs": [],
   "source": [
    "reference = pos[851]\n",
    "kdtree = PeriodicKDTree(box=u.dimensions)\n",
    "cut = 3.6\n",
    "kdtree.set_coords(pos, cutoff=cut)\n",
    "_pairs = kdtree.search_tree(reference, 3.6)"
   ]
  },
  {
   "cell_type": "code",
   "execution_count": 48,
   "metadata": {},
   "outputs": [],
   "source": [
    "pairs = _pairs\n",
    "\n",
    "refA, refB = pairs[:, 1][0], pairs[:, 1][1]\n",
    "distances = calc_bonds(pos[refA], pos[refB],\n",
    "                                       box=u.dimensions)"
   ]
  },
  {
   "cell_type": "code",
   "execution_count": 57,
   "metadata": {},
   "outputs": [
    {
     "data": {
      "text/plain": [
       "array([2, 3, 0, 6, 5, 4, 1])"
      ]
     },
     "execution_count": 57,
     "metadata": {},
     "output_type": "execute_result"
    }
   ],
   "source": [
    "np.argsort([np.linalg.norm(pos[851] - item) for item in  pos[pairs[:,1][1:]]])"
   ]
  },
  {
   "cell_type": "code",
   "execution_count": 61,
   "metadata": {},
   "outputs": [
    {
     "data": {
      "text/plain": [
       "array([3209, 3305, 3906, 3939, 4046, 6871, 7164])"
      ]
     },
     "execution_count": 61,
     "metadata": {},
     "output_type": "execute_result"
    }
   ],
   "source": [
    "pairs[:,1][1:]"
   ]
  },
  {
   "cell_type": "code",
   "execution_count": 22,
   "metadata": {},
   "outputs": [
    {
     "data": {
      "text/plain": [
       "array([24.72,  9.74, 45.21], dtype=float32)"
      ]
     },
     "execution_count": 22,
     "metadata": {},
     "output_type": "execute_result"
    }
   ],
   "source": []
  },
  {
   "cell_type": "code",
   "execution_count": 23,
   "metadata": {},
   "outputs": [
    {
     "data": {
      "text/plain": [
       "array([29.460001, 30.29    , 23.73    ], dtype=float32)"
      ]
     },
     "execution_count": 23,
     "metadata": {},
     "output_type": "execute_result"
    }
   ],
   "source": [
    "pos[851]"
   ]
  },
  {
   "cell_type": "code",
   "execution_count": null,
   "metadata": {},
   "outputs": [],
   "source": [
    "def _sort_dihedral_(h1a, h2a, oa, h1b, h2b, ob):\n",
    "    \"\"\"\n",
    "    params:\n",
    "        takes all 6 positions of atoms of two oxygen molecules\n",
    "    returns:\n",
    "        position of 4 atoms that maintains furthest hydrogen criteria..\n",
    "    \"\"\"\n",
    "    #dist = self.dist\n",
    "    dist_oa_h1b = _dist(oa, h1b, box)\n",
    "    dist_oa_h2b = _dist(oa, h2b, box)\n",
    "    dist_ob_h1a = _dist(ob, h1a, box)\n",
    "    dist_ob_h2a = _dist(ob, h2a, box)\n",
    "    min_dist = _np.min([dist_oa_h1b, dist_oa_h2b, dist_ob_h1a, dist_ob_h2a])\n",
    "    max_dist = _np.max([dist_oa_h1b, dist_oa_h2b, dist_ob_h1a, dist_ob_h2a])\n",
    "\n",
    "    if min_dist == dist_ob_h2a:\n",
    "        dih = (\n",
    "            _np.array([h1a, oa, ob, h1b])\n",
    "            if max_dist == dist_oa_h1b\n",
    "            else _np.array([h1a, oa, ob, h2b])\n",
    "        )\n",
    "    elif min_dist == dist_ob_h1a:\n",
    "        if max_dist == dist_oa_h1b:\n",
    "            dih = _np.array([h2a,oa,ob,h1b])\n",
    "        else:\n",
    "            dih = _np.array([h2a,oa,ob,h2b])\n",
    "    elif min_dist == dist_oa_h1b:\n",
    "        if max_dist == dist_ob_h1a:\n",
    "            dih = _np.array([h2b,ob,oa,h1a])\n",
    "        else:\n",
    "            dih = _np.array([h2b,ob,oa,h2a])\n",
    "    elif max_dist == dist_ob_h1a:\n",
    "        dih = _np.array([h1b,ob,oa,h1a])\n",
    "    else:\n",
    "        dih = _np.array([h1b,ob,oa,h2a])\n",
    "    return dih"
   ]
  }
 ],
 "metadata": {
  "kernelspec": {
   "display_name": "Python 3 (ipykernel)",
   "language": "python",
   "name": "python3"
  },
  "language_info": {
   "codemirror_mode": {
    "name": "ipython",
    "version": 3
   },
   "file_extension": ".py",
   "mimetype": "text/x-python",
   "name": "python",
   "nbconvert_exporter": "python",
   "pygments_lexer": "ipython3",
   "version": "3.10.9"
  }
 },
 "nbformat": 4,
 "nbformat_minor": 2
}
