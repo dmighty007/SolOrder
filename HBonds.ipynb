{
 "cells": [
  {
   "cell_type": "code",
   "execution_count": 509,
   "id": "71942024",
   "metadata": {},
   "outputs": [],
   "source": [
    "import numpy as np\n",
    "import pandas as pd\n",
    "import seaborn as sns\n",
    "import MDAnalysis as mda\n",
    "from MDAnalysis.analysis.hydrogenbonds.hbond_analysis import HydrogenBondAnalysis as HBA\n",
    "from MDAnalysis.lib.nsgrid import FastNS\n",
    "import tqdm.auto as tqdm\n",
    "from MDAnalysis.lib.distances import calc_angles\n",
    "from MDAnalysis.lib.distances import calc_bonds\n",
    "from joblib import Parallel, delayed\n",
    "from numba import njit\n",
    "import matplotlib.pyplot as plt"
   ]
  },
  {
   "cell_type": "code",
   "execution_count": 224,
   "id": "9f49c106",
   "metadata": {},
   "outputs": [],
   "source": []
  },
  {
   "cell_type": "code",
   "execution_count": null,
   "id": "959b5a08",
   "metadata": {},
   "outputs": [],
   "source": [
    "u = mda.Universe(\"/home/dibyendu/Cage_Calculation/Systems/273k1bar/run1/npt1.gro\",\n",
    "             \"/home/dibyendu/Cage_Calculation/Systems/273k1bar/run1/npt1.xtc\")"
   ]
  },
  {
   "cell_type": "code",
   "execution_count": 225,
   "id": "d9dd52ce",
   "metadata": {},
   "outputs": [],
   "source": [
    "liq = mda.Universe(\"/home/dibyendu/DM_Projects/Sample_Structures/Ice/liquid.gro\", reset_offset = True)"
   ]
  },
  {
   "cell_type": "code",
   "execution_count": 537,
   "id": "10a758f6",
   "metadata": {},
   "outputs": [],
   "source": [
    "ih = mda.Universe(\"/home/dibyendu/DM_Projects/Sample_Structures/Ice/ice1h.gro\", reset_offset = True)\n",
    "ic = mda.Universe(\"/home/dibyendu/DM_Projects/Sample_Structures/Ice/cs2.gro\", reset_offset = True)"
   ]
  },
  {
   "cell_type": "code",
   "execution_count": 227,
   "id": "77e4f6cc",
   "metadata": {},
   "outputs": [
    {
     "data": {
      "application/vnd.jupyter.widget-view+json": {
       "model_id": "588cbfa752164605aa8b137a215782ea",
       "version_major": 2,
       "version_minor": 0
      },
      "text/plain": [
       "  0%|          | 0/1 [00:00<?, ?it/s]"
      ]
     },
     "metadata": {},
     "output_type": "display_data"
    },
    {
     "name": "stderr",
     "output_type": "stream",
     "text": [
      "/home/dibyendu/Soft/anaconda3/envs/Torch/lib/python3.10/site-packages/MDAnalysis/analysis/base.py:438: UserWarning: Reader has no dt information, set to 1.0 ps\n",
      "  self.times[i] = ts.time\n"
     ]
    },
    {
     "data": {
      "text/plain": [
       "<MDAnalysis.analysis.hydrogenbonds.hbond_analysis.HydrogenBondAnalysis at 0x2b7ebac39570>"
      ]
     },
     "execution_count": 227,
     "metadata": {},
     "output_type": "execute_result"
    }
   ],
   "source": [
    "hbondsih = HBA(\n",
    "  universe=ih,\n",
    "  donors_sel='resname SOL and name OW',\n",
    "  hydrogens_sel='resname SOL and name HW1 HW2',\n",
    "  acceptors_sel='resname SOL and name OW',\n",
    "  d_h_a_angle_cutoff=150,\n",
    "  d_h_cutoff=1.2,\n",
    "  d_a_cutoff=3.5,\n",
    ")\n",
    "hbondsih.run(verbose = True)"
   ]
  },
  {
   "cell_type": "code",
   "execution_count": 538,
   "id": "aae36442",
   "metadata": {},
   "outputs": [
    {
     "data": {
      "application/vnd.jupyter.widget-view+json": {
       "model_id": "489be9e74e124eb6b3232822e08d1ae1",
       "version_major": 2,
       "version_minor": 0
      },
      "text/plain": [
       "  0%|          | 0/1 [00:00<?, ?it/s]"
      ]
     },
     "metadata": {},
     "output_type": "display_data"
    },
    {
     "name": "stderr",
     "output_type": "stream",
     "text": [
      "/home/dibyendu/Soft/anaconda3/envs/Torch/lib/python3.10/site-packages/MDAnalysis/analysis/base.py:438: UserWarning: Reader has no dt information, set to 1.0 ps\n",
      "  self.times[i] = ts.time\n"
     ]
    },
    {
     "data": {
      "text/plain": [
       "<MDAnalysis.analysis.hydrogenbonds.hbond_analysis.HydrogenBondAnalysis at 0x2b7ed8cfd1e0>"
      ]
     },
     "execution_count": 538,
     "metadata": {},
     "output_type": "execute_result"
    }
   ],
   "source": [
    "hbondsic = HBA(\n",
    "  universe=ic,\n",
    "  donors_sel='resname ICE and name OW',\n",
    "  hydrogens_sel='resname ICE and name HW1 HW2',\n",
    "  acceptors_sel='resname ICE and name OW',\n",
    "  d_h_a_angle_cutoff=150,\n",
    "  d_h_cutoff=1.2,\n",
    "  d_a_cutoff=3.5,\n",
    ")\n",
    "hbondsic.run(verbose = True)"
   ]
  },
  {
   "cell_type": "code",
   "execution_count": 228,
   "id": "cb11169f",
   "metadata": {},
   "outputs": [
    {
     "data": {
      "application/vnd.jupyter.widget-view+json": {
       "model_id": "77bc5cd022f44ffebe45b4a0e5f0e5c2",
       "version_major": 2,
       "version_minor": 0
      },
      "text/plain": [
       "  0%|          | 0/1 [00:00<?, ?it/s]"
      ]
     },
     "metadata": {},
     "output_type": "display_data"
    },
    {
     "data": {
      "text/plain": [
       "<MDAnalysis.analysis.hydrogenbonds.hbond_analysis.HydrogenBondAnalysis at 0x2b7ebac3bc40>"
      ]
     },
     "execution_count": 228,
     "metadata": {},
     "output_type": "execute_result"
    }
   ],
   "source": [
    "hbondsliq = HBA(\n",
    "  universe=liq,\n",
    "  donors_sel='resname SOL and name OW',\n",
    "  hydrogens_sel='resname SOL and name HW1 HW2',\n",
    "  acceptors_sel='resname SOL and name OW',\n",
    "  d_h_a_angle_cutoff=150,\n",
    "  d_h_cutoff=1.2,\n",
    "  d_a_cutoff=3.5,\n",
    ")\n",
    "hbondsliq.run(verbose = True)"
   ]
  },
  {
   "cell_type": "code",
   "execution_count": 230,
   "id": "643eec05",
   "metadata": {},
   "outputs": [
    {
     "data": {
      "text/plain": [
       "<AxesSubplot:ylabel='Density'>"
      ]
     },
     "execution_count": 230,
     "metadata": {},
     "output_type": "execute_result"
    },
    {
     "data": {
      "image/png": "[encoded data removed]",
      "text/plain": [
       "<Figure size 640x480 with 1 Axes>"
      ]
     },
     "metadata": {},
     "output_type": "display_data"
    }
   ],
   "source": [
    "sns.kdeplot(hbondsih.results['hbonds'][:,4])\n",
    "sns.kdeplot(hbondsliq.results['hbonds'][:,4])"
   ]
  },
  {
   "cell_type": "code",
   "execution_count": 510,
   "id": "dd9217d8",
   "metadata": {},
   "outputs": [],
   "source": [
    "@njit\n",
    "def localHBs(tid, data):\n",
    "    nd = data[(data[:,1] == tid) | (data[:,3] == tid)]\n",
    "    data1 = nd[:,1]\n",
    "    data2 = nd[:,3]\n",
    "    return data1, data2"
   ]
  },
  {
   "cell_type": "code",
   "execution_count": 489,
   "id": "04f4fa01",
   "metadata": {},
   "outputs": [],
   "source": [
    "@njit\n",
    "def neighbour(tid, arr):\n",
    "    return np.array(list(arr[arr[:,0] == tid][:,1]) + list(arr[arr[:,1] == tid][:,0]))"
   ]
  },
  {
   "cell_type": "code",
   "execution_count": 519,
   "id": "86ac4661",
   "metadata": {},
   "outputs": [],
   "source": [
    "@njit\n",
    "def localHBsInfo(tid, arr,hbonds, posi):\n",
    "    arr_neighbour = neighbour(tid, arr)\n",
    "    #arr_neighbour = neighbours(tid, arr)\n",
    "    h_neighbour = 4*arr_neighbour\n",
    "\n",
    "    my_list = []\n",
    "    dt = np.column_stack(localHBs(tid, hbonds)).astype(np.int32)\n",
    "    for data in dt:\n",
    "        my_list.append(data)\n",
    "    for nns in h_neighbour:\n",
    "        list_pair = np.column_stack(localHBs(nns,hbonds)).astype(np.int32)\n",
    "        for pair in list_pair:\n",
    "            if arrayChacker(my_list, pair):\n",
    "                d1 = np.linalg.norm(posi[tid] - posi[pair[0]])\n",
    "                d2 = np.linalg.norm(posi[tid] - posi[pair[1]])\n",
    "                if d1 < 5.0 and d2 < 5.0:\n",
    "\n",
    "                    my_list.append(pair)\n",
    "            \n",
    "    return my_list"
   ]
  },
  {
   "cell_type": "code",
   "execution_count": 520,
   "id": "3ca44f8d",
   "metadata": {},
   "outputs": [],
   "source": [
    "@njit\n",
    "def arrayChacker(datalist, pair):\n",
    "    for data in datalist:\n",
    "        if (data == pair).all():\n",
    "            return True\n",
    "    return False"
   ]
  },
  {
   "cell_type": "code",
   "execution_count": 521,
   "id": "1246afcd",
   "metadata": {},
   "outputs": [],
   "source": [
    "def localHBDistribution(universe, hbond_obj) :\n",
    "    pos = universe.select_atoms(\"name OW\").positions\n",
    "    posi = universe.select_atoms(\"all\").positions\n",
    "    cutoff = 3.6 \n",
    "    \n",
    "    gridsearch = FastNS(cutoff, pos, universe.dimensions, pbc=True)\n",
    "\n",
    "    results = gridsearch.self_search()\n",
    "    arr = results.get_pairs()\n",
    "    hbih_nums = Parallel(n_jobs=-1, backend = \"threading\")(delayed(localHBsInfo)(i*4,arr,hbond_obj, posi) for i in tqdm.trange(len(pos)))\n",
    "    number_list = list(map(lambda x : len(set(tuple(i) for i in x)), hbih_nums))\n",
    "    return np.array(number_list)"
   ]
  },
  {
   "cell_type": "code",
   "execution_count": null,
   "id": "11b47cfd",
   "metadata": {},
   "outputs": [],
   "source": []
  },
  {
   "cell_type": "code",
   "execution_count": 522,
   "id": "bd32de61",
   "metadata": {},
   "outputs": [
    {
     "data": {
      "application/vnd.jupyter.widget-view+json": {
       "model_id": "66bde622c80947748557060e67dd397f",
       "version_major": 2,
       "version_minor": 0
      },
      "text/plain": [
       "  0%|          | 0/11664 [00:00<?, ?it/s]"
      ]
     },
     "metadata": {},
     "output_type": "display_data"
    }
   ],
   "source": [
    "hbih_nums = localHBDistribution(ih, hbondsih.results.hbonds)"
   ]
  },
  {
   "cell_type": "code",
   "execution_count": 523,
   "id": "dbe05e5b",
   "metadata": {},
   "outputs": [
    {
     "data": {
      "application/vnd.jupyter.widget-view+json": {
       "model_id": "efa807622d7648108eee149ffef456dd",
       "version_major": 2,
       "version_minor": 0
      },
      "text/plain": [
       "  0%|          | 0/11222 [00:00<?, ?it/s]"
      ]
     },
     "metadata": {},
     "output_type": "display_data"
    }
   ],
   "source": [
    "hbliq_nums = localHBDistribution(liq, hbondsliq.results.hbonds)"
   ]
  },
  {
   "cell_type": "code",
   "execution_count": 539,
   "id": "c5a4e14d",
   "metadata": {},
   "outputs": [
    {
     "data": {
      "application/vnd.jupyter.widget-view+json": {
       "model_id": "67b54c12c79b40f68a28fbe3d86f0eae",
       "version_major": 2,
       "version_minor": 0
      },
      "text/plain": [
       "  0%|          | 0/13600 [00:00<?, ?it/s]"
      ]
     },
     "metadata": {},
     "output_type": "display_data"
    }
   ],
   "source": [
    "hbic_nums = localHBDistribution(ic, hbondsic.results.hbonds)"
   ]
  },
  {
   "cell_type": "code",
   "execution_count": 546,
   "id": "279a6146",
   "metadata": {},
   "outputs": [
    {
     "data": {
      "text/plain": [
       "<AxesSubplot:ylabel='Density'>"
      ]
     },
     "execution_count": 546,
     "metadata": {},
     "output_type": "execute_result"
    },
    {
     "data": {
      "image/png": "[encoded data removed]",
      "text/plain": [
       "<Figure size 640x480 with 1 Axes>"
      ]
     },
     "metadata": {},
     "output_type": "display_data"
    }
   ],
   "source": [
    "#sns.kdeplot(hbliq_nums, bw_method=0.5)\n",
    "sns.kdeplot(hbih_nums, bw_method = 0.01)\n",
    "sns.kdeplot(hbic_nums, bw_method = 0.01)\n",
    "#plt.xlim([4.9, 5.1])"
   ]
  },
  {
   "cell_type": "code",
   "execution_count": null,
   "id": "9caa0d72",
   "metadata": {},
   "outputs": [],
   "source": []
  }
 ],
 "metadata": {
  "kernelspec": {
   "display_name": "Python 3 (ipykernel)",
   "language": "python",
   "name": "python3"
  },
  "language_info": {
   "codemirror_mode": {
    "name": "ipython",
    "version": 3
   },
   "file_extension": ".py",
   "mimetype": "text/x-python",
   "name": "python",
   "nbconvert_exporter": "python",
   "pygments_lexer": "ipython3",
   "version": "3.10.9"
  }
 },
 "nbformat": 4,
 "nbformat_minor": 5
}
