{
 "cells": [
  {
   "cell_type": "code",
   "execution_count": 110,
   "metadata": {},
   "outputs": [],
   "source": [
    "import numpy as np\n",
    "import pandas as pd\n",
    "import os\n",
    "os.chdir(\"/home/dibyendu/DM_Projects/Sample_Structures/\")"
   ]
  },
  {
   "cell_type": "code",
   "execution_count": 150,
   "metadata": {},
   "outputs": [],
   "source": [
    "def NRG_PRS(system):\n",
    "    nrg = np.loadtxt(f\"./Inherent/{system}/energy.xvg\", comments=[\"@\", \"#\"])\n",
    "    prs = np.loadtxt(f\"./Inherent/{system}/pressure.xvg\", comments=[\"@\", \"#\"])\n",
    "\n",
    "    f = open(f\"./Inherent/{system}/{system}.gro\")\n",
    "    for _ in range(2):\n",
    "        b = f.readline()\n",
    "    num_part = float(b)\n",
    "    #print(num_part)\n",
    "    return nrg[:,1][-1]/num_part, prs[:,1][-1]\n"
   ]
  },
  {
   "cell_type": "code",
   "execution_count": 151,
   "metadata": {},
   "outputs": [],
   "source": [
    "nrg0, prs0 = NRG_PRS(\"ice0\")\n",
    "nrg2, prs2 = NRG_PRS(\"ice2\")\n",
    "nrg3, prs3 = NRG_PRS(\"ice3\")\n",
    "nrg4, prs4 = NRG_PRS(\"ice4\")\n",
    "nrg5, prs5 = NRG_PRS(\"ice5\")\n",
    "nrg6, prs6 = NRG_PRS(\"ice6\")\n",
    "nrg7, prs7 = NRG_PRS(\"ice7\")\n",
    "nrg9, prs9 = NRG_PRS(\"ice9\")\n",
    "nrg12, prs12 = NRG_PRS(\"ice12\")\n",
    "nrg1h, prs1h = NRG_PRS(\"ice1h\")\n",
    "nrg1c, prs1c = NRG_PRS(\"ice1c\")\n",
    "nrgA, prsA = NRG_PRS(\"iceA\")\n",
    "nrgB, prsB = NRG_PRS(\"iceB\")"
   ]
  },
  {
   "cell_type": "code",
   "execution_count": 144,
   "metadata": {},
   "outputs": [
    {
     "data": {
      "text/plain": [
       "array([[ 0.00000000e+00, -7.87531184e+05],\n",
       "       [ 0.00000000e+00, -7.87555411e+05],\n",
       "       [ 7.20000000e+02, -7.87605027e+05]])"
      ]
     },
     "execution_count": 144,
     "metadata": {},
     "output_type": "execute_result"
    }
   ],
   "source": [
    "system = \"ice1c\"\n",
    "np.loadtxt(f\"./Inherent/{system}/energy.xvg\", comments=[\"@\", \"#\"])"
   ]
  },
  {
   "cell_type": "code",
   "execution_count": 122,
   "metadata": {},
   "outputs": [
    {
     "data": {
      "text/plain": [
       "-3116.916628"
      ]
     },
     "execution_count": 122,
     "metadata": {},
     "output_type": "execute_result"
    }
   ],
   "source": [
    "prs1c"
   ]
  },
  {
   "cell_type": "code",
   "execution_count": 171,
   "metadata": {},
   "outputs": [],
   "source": [
    "arg_array = np.argsort(np.array([nrg0, nrg2, nrg3, nrg4, nrg5, nrg6, nrg7, nrg9, nrg12, nrg1h, nrg1c, nrgA, nrgB]))"
   ]
  },
  {
   "cell_type": "code",
   "execution_count": 170,
   "metadata": {},
   "outputs": [],
   "source": [
    "name_array = np.array(\"nrg0, nrg2, nrg3, nrg4, nrg5, nrg6, nrg7, nrg9, nrg12, nrg1h, nrg1c, nrgA, nrgB\".split(\",\"))\n",
    "    "
   ]
  },
  {
   "cell_type": "code",
   "execution_count": 172,
   "metadata": {},
   "outputs": [
    {
     "data": {
      "text/plain": [
       "array([' nrg1h', ' nrg1c', ' nrg9', 'nrg0', ' nrgA', ' nrg2', ' nrg3',\n",
       "       ' nrgB', ' nrg5', ' nrg4', ' nrg6', ' nrg12', ' nrg7'], dtype='<U6')"
      ]
     },
     "execution_count": 172,
     "metadata": {},
     "output_type": "execute_result"
    }
   ],
   "source": [
    "name_array[arg_array]"
   ]
  },
  {
   "cell_type": "code",
   "execution_count": null,
   "metadata": {},
   "outputs": [],
   "source": []
  }
 ],
 "metadata": {
  "kernelspec": {
   "display_name": "Python 3 (ipykernel)",
   "language": "python",
   "name": "python3"
  },
  "language_info": {
   "codemirror_mode": {
    "name": "ipython",
    "version": 3
   },
   "file_extension": ".py",
   "mimetype": "text/x-python",
   "name": "python",
   "nbconvert_exporter": "python",
   "pygments_lexer": "ipython3",
   "version": "3.10.9"
  },
  "orig_nbformat": 4
 },
 "nbformat": 4,
 "nbformat_minor": 2
}
