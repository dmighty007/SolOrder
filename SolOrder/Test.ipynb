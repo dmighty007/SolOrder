{
 "cells": [
  {
   "cell_type": "code",
   "execution_count": 1,
   "id": "22a9fa06",
   "metadata": {},
   "outputs": [],
   "source": [
    "import numpy as np\n",
    "import pandas as pd"
   ]
  },
  {
   "cell_type": "code",
   "execution_count": 2,
   "id": "bfb8ed3e",
   "metadata": {},
   "outputs": [
    {
     "name": "stderr",
     "output_type": "stream",
     "text": [
      "<frozen importlib._bootstrap>:228: RuntimeWarning: scipy._lib.messagestream.MessageStream size changed, may indicate binary incompatibility. Expected 56 from C header, got 64 from PyObject\n"
     ]
    }
   ],
   "source": [
    "from entropy import eFingerprint"
   ]
  },
  {
   "cell_type": "code",
   "execution_count": 3,
   "id": "03ac3c13",
   "metadata": {},
   "outputs": [
    {
     "data": {
      "text/plain": [
       "['__class__',\n",
       " '__delattr__',\n",
       " '__dict__',\n",
       " '__dir__',\n",
       " '__doc__',\n",
       " '__eq__',\n",
       " '__format__',\n",
       " '__ge__',\n",
       " '__getattribute__',\n",
       " '__gt__',\n",
       " '__hash__',\n",
       " '__init__',\n",
       " '__init_subclass__',\n",
       " '__le__',\n",
       " '__lt__',\n",
       " '__module__',\n",
       " '__ne__',\n",
       " '__new__',\n",
       " '__reduce__',\n",
       " '__reduce_ex__',\n",
       " '__repr__',\n",
       " '__setattr__',\n",
       " '__sizeof__',\n",
       " '__str__',\n",
       " '__subclasshook__',\n",
       " '__weakref__',\n",
       " 'localEntropy']"
      ]
     },
     "execution_count": 3,
     "metadata": {},
     "output_type": "execute_result"
    }
   ],
   "source": [
    "dir(eFingerprint)"
   ]
  },
  {
   "cell_type": "code",
   "execution_count": 4,
   "id": "88946614",
   "metadata": {},
   "outputs": [],
   "source": [
    "from dihedral import OrderParameter"
   ]
  },
  {
   "cell_type": "code",
   "execution_count": 5,
   "id": "01a51a22",
   "metadata": {},
   "outputs": [
    {
     "data": {
      "text/plain": [
       "['F4',\n",
       " 'LSI',\n",
       " 'MinimumAngle',\n",
       " 'OTO',\n",
       " 'TTO',\n",
       " '__class__',\n",
       " '__delattr__',\n",
       " '__dict__',\n",
       " '__dir__',\n",
       " '__doc__',\n",
       " '__eq__',\n",
       " '__format__',\n",
       " '__ge__',\n",
       " '__getattribute__',\n",
       " '__gt__',\n",
       " '__hash__',\n",
       " '__init__',\n",
       " '__init_subclass__',\n",
       " '__le__',\n",
       " '__lt__',\n",
       " '__module__',\n",
       " '__ne__',\n",
       " '__new__',\n",
       " '__reduce__',\n",
       " '__reduce_ex__',\n",
       " '__repr__',\n",
       " '__setattr__',\n",
       " '__sizeof__',\n",
       " '__str__',\n",
       " '__subclasshook__',\n",
       " '__weakref__',\n",
       " '_filter_',\n",
       " '_sort_dihedral',\n",
       " 'calculate_dihedral',\n",
       " 'dist',\n",
       " 'get_atoms',\n",
       " 'get_dihedrals',\n",
       " 'singleLSI',\n",
       " 'singleMinimumAngle',\n",
       " 'singleOTO',\n",
       " 'singleTTO']"
      ]
     },
     "execution_count": 5,
     "metadata": {},
     "output_type": "execute_result"
    }
   ],
   "source": [
    "dir(OrderParameter)"
   ]
  },
  {
   "cell_type": "code",
   "execution_count": null,
   "id": "f4b34288",
   "metadata": {},
   "outputs": [],
   "source": [
    "from MDAnalysis.lib.nsgrid import FastNS as _FastNS\n",
    "import numpy as _np\n",
    "import pandas as _pd\n",
    "import tqdm.auto as _tqdm\n",
    "from numba import njit as _njit\n",
    "\n",
    "@_njit\n",
    "########### Calculates distance obeying PBC.......\n",
    "def dist(a, b, box):\n",
    "    \"\"\"\n",
    "    params:\n",
    "        a: vector, position of 1st particle\n",
    "        b: vector, position of 2nd particle\n",
    "    returns:\n",
    "        distance between two vectors, considering PBC\n",
    "    \"\"\"\n",
    "    #box = box\n",
    "    dx = b - a\n",
    "    for i in range(3):\n",
    "        if abs(dx[i]) >= box[i]/2.0:\n",
    "            #print(dx[i], box[i])\n",
    "            dx[i] = box[i] - abs(dx[i])\n",
    "    return _np.sqrt((dx**2).sum())\n",
    "@_njit \n",
    "def neighbours(i,arr):\n",
    "    val = _np.unique(_np.concatenate((arr[arr[:,0] == i], arr[arr[:,1] == i])).ravel())\n",
    "    mask = val != i\n",
    "    return val[mask]\n",
    "@_njit\n",
    "def _e(i,arr,pos,global_rho,r,rsq,sigma,prefactor,cutoff,box):\n",
    "    distance = []\n",
    "    for item in neighbours(i,arr):\n",
    "        distance.append(dist(pos[item], pos[i], box))\n",
    "    rij = _np.array(distance)\n",
    "    r_diff = _np.expand_dims(r, 0) - _np.expand_dims(rij, 1)\n",
    "    g_m = _np.sum(_np.exp(-r_diff**2 / (2.0*sigma**2)), axis=0) / prefactor\n",
    "    local_volume = 4/3 * _np.pi * cutoff**3\n",
    "    rho = len(rij) / local_volume\n",
    "    g_m *= global_rho / rho\n",
    "    integrand = _np.where(g_m >= 1e-10, (g_m * _np.log(g_m) - g_m + 1.0) * rsq, rsq)\n",
    "    int_val = -2.0 * _np.pi * rho * _np.trapz(integrand, r)\n",
    "    #entropy_list.append(int_val)\n",
    "    return int_val\n",
    "\n",
    "class eFingerprint:\n",
    "    def __init__(self, universe, frame = 1, include_hydrogen = False):\n",
    "        \n",
    "        \"\"\"\n",
    "        Takes MDAnalysis universe object and returns local entropy fingerprints of the oxygen atoms..\n",
    "        include_hydrogen=False by default..\n",
    "        \n",
    "        \"\"\"\n",
    "        ox = universe.select_atoms(\"name OW\").ids - 1\n",
    "        _neighbours = lambda i,arr : _np.unique(_np.concatenate([arr[arr[:,0] == i], arr[arr[:,1] == i]]).ravel())\n",
    "        neighbours = lambda i,arr : _neighbours(i,arr)[_neighbours(i,arr) != i]\n",
    "        self.cutoff = 5.0\n",
    "        self.sigma = 0.15\n",
    "        self.box = universe.dimensions[:3]\n",
    "        self.dimensions = universe.dimensions\n",
    "        self.volume = universe.dimensions[:3][0] * universe.dimensions[:3][1] * universe.dimensions[:3][2]\n",
    "        self.pos = universe.select_atoms(\"name OW\").positions \n",
    "        self.n_atoms = universe.select_atoms(\"name OW\").n_atoms\n",
    "        self.global_rho = self.n_atoms / self.volume\n",
    "        self.identifier = _pd.Series(universe.select_atoms(\"name OW\").names)\n",
    "        if include_hydrogen == True:\n",
    "            self.pos = universe.atoms.positions \n",
    "            self.n_atoms = universe.atoms.n_atoms\n",
    "            self.global_rho = self.n_atoms / self.volume\n",
    "            self.identifier = _pd.Series(universe.atoms.names)\n",
    "\n",
    "        #local_entropy = np.empty(n_atoms)\n",
    "        nbins = int(self.cutoff / self.sigma) + 1\n",
    "        self.r = _np.linspace(0.0, self.cutoff, num=nbins)\n",
    "        self.rsq = self.r**2\n",
    "        self.prefactor = self.rsq * (4 * _np.pi * self.global_rho * _np.sqrt(2 * _np.pi * self.sigma**2))\n",
    "        self.prefactor[0] = self.prefactor[1] \n",
    "        gridsearch = _FastNS(self.cutoff, self.pos, self.dimensions, pbc=True)\n",
    "        results = gridsearch.self_search()\n",
    "        self.arr = results.get_pairs()\n",
    "        self.ox_ids = _np.array(self.identifier[self.identifier == \"OW\"].index)\n",
    "    def localEntropy(self):\n",
    "        \"\"\"\n",
    "         Returns projection of entropy on local oxygen atom..\n",
    "        \"\"\"\n",
    "\n",
    "        ox_num = len(self.ox_ids)\n",
    "        loc_entropy = _np.zeros(ox_num)\n",
    "        for i in _tqdm.trange(ox_num):\n",
    "            loc_entropy[i] = (_e(self.ox_ids[i],self.arr,self.pos,self.global_rho,self.r,self.rsq,self.sigma,self.prefactor,self.cutoff, self.box))\n",
    "        self.localentropy = loc_entropy\n",
    "        "
   ]
  }
 ],
 "metadata": {
  "kernelspec": {
   "display_name": "Python 3 (ipykernel)",
   "language": "python",
   "name": "python3"
  },
  "language_info": {
   "codemirror_mode": {
    "name": "ipython",
    "version": 3
   },
   "file_extension": ".py",
   "mimetype": "text/x-python",
   "name": "python",
   "nbconvert_exporter": "python",
   "pygments_lexer": "ipython3",
   "version": "3.9.12"
  }
 },
 "nbformat": 4,
 "nbformat_minor": 5
}
