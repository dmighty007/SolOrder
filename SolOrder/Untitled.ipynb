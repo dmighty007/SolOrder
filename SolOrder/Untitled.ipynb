{
 "cells": [
  {
   "cell_type": "code",
   "execution_count": 1,
   "id": "bf7013fc",
   "metadata": {},
   "outputs": [
    {
     "name": "stderr",
     "output_type": "stream",
     "text": [
      "<frozen importlib._bootstrap>:228: RuntimeWarning: scipy._lib.messagestream.MessageStream size changed, may indicate binary incompatibility. Expected 56 from C header, got 64 from PyObject\n"
     ]
    }
   ],
   "source": [
    "from entropy import eFingerprint"
   ]
  },
  {
   "cell_type": "code",
   "execution_count": 2,
   "id": "eba49bc0",
   "metadata": {},
   "outputs": [],
   "source": [
    "import MDAnalysis as mda"
   ]
  },
  {
   "cell_type": "code",
   "execution_count": 3,
   "id": "0f92675e",
   "metadata": {},
   "outputs": [
    {
     "data": {
      "text/plain": [
       "<Universe with 7344 atoms>"
      ]
     },
     "execution_count": 3,
     "metadata": {},
     "output_type": "execute_result"
    }
   ],
   "source": [
    "u = mda.Universe(\"/home/dibya/Dibyendu/Test/sH.gro\")\n",
    "u"
   ]
  },
  {
   "cell_type": "code",
   "execution_count": 4,
   "id": "21e75aa8",
   "metadata": {},
   "outputs": [],
   "source": [
    "E = eFingerprint(u)"
   ]
  },
  {
   "cell_type": "code",
   "execution_count": 5,
   "id": "b228edf0",
   "metadata": {},
   "outputs": [
    {
     "data": {
      "application/vnd.jupyter.widget-view+json": {
       "model_id": "70c65aff6a0d4fd2bf16bcbc7399a3cb",
       "version_major": 2,
       "version_minor": 0
      },
      "text/plain": [
       "  0%|          | 0/1836 [00:00<?, ?it/s]"
      ]
     },
     "metadata": {},
     "output_type": "display_data"
    }
   ],
   "source": [
    "E.localEntropy()"
   ]
  },
  {
   "cell_type": "code",
   "execution_count": 6,
   "id": "3da45f4d",
   "metadata": {},
   "outputs": [
    {
     "data": {
      "text/plain": [
       "array([-5.07632882, -4.83298875, -4.83558543, ..., -4.82023712,\n",
       "       -5.14076292, -5.12657816])"
      ]
     },
     "execution_count": 6,
     "metadata": {},
     "output_type": "execute_result"
    }
   ],
   "source": [
    "E.le"
   ]
  },
  {
   "cell_type": "code",
   "execution_count": null,
   "id": "a3cb5da5",
   "metadata": {},
   "outputs": [],
   "source": []
  }
 ],
 "metadata": {
  "kernelspec": {
   "display_name": "Python 3 (ipykernel)",
   "language": "python",
   "name": "python3"
  },
  "language_info": {
   "codemirror_mode": {
    "name": "ipython",
    "version": 3
   },
   "file_extension": ".py",
   "mimetype": "text/x-python",
   "name": "python",
   "nbconvert_exporter": "python",
   "pygments_lexer": "ipython3",
   "version": "3.9.12"
  }
 },
 "nbformat": 4,
 "nbformat_minor": 5
}
